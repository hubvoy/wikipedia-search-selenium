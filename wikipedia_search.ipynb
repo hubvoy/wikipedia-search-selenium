{
 "metadata": {
  "language_info": {
   "codemirror_mode": {
    "name": "ipython",
    "version": 3
   },
   "file_extension": ".py",
   "mimetype": "text/x-python",
   "name": "python",
   "nbconvert_exporter": "python",
   "pygments_lexer": "ipython3",
   "version": "3.6.5-final"
  },
  "orig_nbformat": 2,
  "kernelspec": {
   "name": "Python 3.6.5 64-bit ('base': conda)",
   "display_name": "Python 3.6.5 64-bit ('base': conda)",
   "metadata": {
    "interpreter": {
     "hash": "3ec12c9a90022a5c5aea9a7bd10df8a4976e781b001dc5e2290c749ff8b47f55"
    }
   }
  }
 },
 "nbformat": 4,
 "nbformat_minor": 2,
 "cells": [
  {
   "cell_type": "code",
   "execution_count": 3,
   "metadata": {
    "tags": []
   },
   "outputs": [],
   "source": [
    "def search(query):\n",
    "    '''\n",
    "    Gets the first paragraph of any Wikipedia search the user enters.\n",
    "    '''\n",
    "\n",
    "    # Imports from Selenium - a webscraping/web-testing library\n",
    "    from selenium.webdriver.common.keys import Keys\n",
    "    from selenium import webdriver\n",
    "    from selenium.webdriver.chrome.options import Options\n",
    "\n",
    "    # To gain access to any site, you need to specify the chrome shortcut path and the driver executable path\n",
    "    CHROME_PATH = 'C:\\Program Files (x86)\\Google\\Chrome\\Application\\chrome.exe'\n",
    "    CHROMEDRIVER_PATH = 'D:\\Program Files (x86)\\chromedriver.exe'\n",
    "    WINDOW_SIZE = '1920,1080'\n",
    "\n",
    "    # Change Chrome settings so no window pops up on your computer\n",
    "    chrome_options = Options()\n",
    "    chrome_options.add_argument('--headless')\n",
    "    chrome_options.add_argument(f'--window-size={WINDOW_SIZE}')\n",
    "    chrome_options.binary_location = CHROME_PATH\n",
    "\n",
    "    # Instantiate Chrome webdriver object, which lets you access any web page (in this case Wikipedia)\n",
    "    driver = webdriver.Chrome(executable_path=CHROMEDRIVER_PATH, \n",
    "                                options=chrome_options)\n",
    "\n",
    "    # Navigate to Wikipedia, find the search bar, type in the user's query, and hit enter\n",
    "    driver.get('https://wikipedia.org')\n",
    "    search = driver.find_element_by_id('searchInput')\n",
    "    search.send_keys(query, Keys.RETURN)\n",
    "\n",
    "    # Get every paragraph from the page\n",
    "    result = driver.find_elements_by_tag_name('p')\n",
    "\n",
    "    # Iterate through paragraphs, find the first one over 100 characters (previous paragraphs may be a bit shorter), and print it\n",
    "    for i in result:\n",
    "        text = i.text\n",
    "        if len(text) > 100:\n",
    "            print(text, '\\n')\n",
    "            break\n",
    "\n",
    "    # Quit the browser\n",
    "    driver.quit()"
   ]
  },
  {
   "cell_type": "code",
   "execution_count": 6,
   "metadata": {
    "tags": []
   },
   "outputs": [
    {
     "output_type": "stream",
     "name": "stdout",
     "text": "Selenium is a chemical element with the symbol Se and atomic number 34. It is a nonmetal (more rarely considered a metalloid) with properties that are intermediate between the elements above and below in the periodic table, sulfur and tellurium, and also has similarities to arsenic. It rarely occurs in its elemental state or as pure ore compounds in the Earth's crust. Selenium—from Ancient Greek σελήνη (selḗnē) \"Moon\" – was discovered in 1817 by Jöns Jacob Berzelius, who noted the similarity of the new element to the previously discovered tellurium (named for the Earth). \n\n"
    }
   ],
   "source": [
    "search('Selenium')"
   ]
  },
  {
   "cell_type": "code",
   "execution_count": null,
   "metadata": {},
   "outputs": [],
   "source": []
  }
 ]
}